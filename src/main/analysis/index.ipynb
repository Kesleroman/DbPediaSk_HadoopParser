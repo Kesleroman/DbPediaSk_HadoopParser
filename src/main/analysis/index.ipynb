{
 "metadata": {
  "language_info": {
   "codemirror_mode": {
    "name": "ipython",
    "version": 3
   },
   "file_extension": ".py",
   "mimetype": "text/x-python",
   "name": "python",
   "nbconvert_exporter": "python",
   "pygments_lexer": "ipython3",
   "version": "3.8.2-final"
  },
  "orig_nbformat": 2,
  "kernelspec": {
   "name": "python3",
   "display_name": "Python 3"
  }
 },
 "nbformat": 4,
 "nbformat_minor": 2,
 "cells": [
  {
   "cell_type": "code",
   "execution_count": 5,
   "metadata": {},
   "outputs": [],
   "source": [
    "import pandas as pd\n",
    "import json"
   ]
  },
  {
   "cell_type": "code",
   "execution_count": 6,
   "metadata": {},
   "outputs": [],
   "source": [
    "def load_data(path):\n",
    "    data = pd.read_csv(path, header=None, sep=\"\\n\")\n",
    "    data_dict = {\n",
    "        'key':[],\n",
    "        'id':[],\n",
    "        'label':[],\n",
    "        'categories':[],\n",
    "        'links':[],\n",
    "        'external_links':[]\n",
    "    }\n",
    "\n",
    "    for _, row in data.iterrows():\n",
    "        row_json = json.loads(row[0])\n",
    "        \n",
    "        data_dict['key'].append(row_json['key'])\n",
    "        data_dict['id'].append(row_json['value']['id']['int'])\n",
    "        label = row_json['value']['pageLabel']['string'] if row_json['value']['pageLabel'] != None else \"\"  \n",
    "        data_dict['label'].append(label)\n",
    "        data_dict['categories'].append(row_json['value']['categories'])\n",
    "        data_dict['links'].append(row_json['value']['links'])\n",
    "        data_dict['external_links'].append(row_json['value']['externalLinks'])\n",
    "\n",
    "    return pd.DataFrame(data_dict)"
   ]
  },
  {
   "cell_type": "code",
   "execution_count": 7,
   "metadata": {},
   "outputs": [],
   "source": [
    "data0 = load_data(\"output_json/part0.json\")\n",
    "data1 = load_data(\"output_json/part1.json\")\n",
    "data2 = load_data(\"output_json/part2.json\")\n",
    "data3 = load_data(\"output_json/part3.json\")"
   ]
  },
  {
   "cell_type": "code",
   "execution_count": 8,
   "metadata": {},
   "outputs": [],
   "source": [
    "full_data = pd.concat((data0, data1, data2, data3), ignore_index=True, sort=False)"
   ]
  },
  {
   "cell_type": "code",
   "execution_count": 12,
   "metadata": {},
   "outputs": [
    {
     "output_type": "execute_result",
     "data": {
      "text/plain": [
       "True"
      ]
     },
     "metadata": {},
     "execution_count": 12
    }
   ],
   "source": [
    "len(full_data) == len(data0) + len(data1) + len(data2) + len(data3)"
   ]
  },
  {
   "cell_type": "code",
   "execution_count": 21,
   "metadata": {},
   "outputs": [
    {
     "output_type": "execute_result",
     "data": {
      "text/plain": [
       "                                             key      id       label  \\\n",
       "0  <http://sk.dbpedia.org/resource/%22Heroes%22>  474367  \\\"Heroes\\\"   \n",
       "1     <http://sk.dbpedia.org/resource/%22ale%22>  449263     \\\"ale\\\"   \n",
       "\n",
       "  categories                                         links external_links  \n",
       "0         []       [http://sk.dbpedia.org/resource/Heroes]             []  \n",
       "1         []  [http://sk.dbpedia.org/resource/Ale_(album)]             []  "
      ],
      "text/html": "<div>\n<style scoped>\n    .dataframe tbody tr th:only-of-type {\n        vertical-align: middle;\n    }\n\n    .dataframe tbody tr th {\n        vertical-align: top;\n    }\n\n    .dataframe thead th {\n        text-align: right;\n    }\n</style>\n<table border=\"1\" class=\"dataframe\">\n  <thead>\n    <tr style=\"text-align: right;\">\n      <th></th>\n      <th>key</th>\n      <th>id</th>\n      <th>label</th>\n      <th>categories</th>\n      <th>links</th>\n      <th>external_links</th>\n    </tr>\n  </thead>\n  <tbody>\n    <tr>\n      <th>0</th>\n      <td>&lt;http://sk.dbpedia.org/resource/%22Heroes%22&gt;</td>\n      <td>474367</td>\n      <td>\\\"Heroes\\\"</td>\n      <td>[]</td>\n      <td>[http://sk.dbpedia.org/resource/Heroes]</td>\n      <td>[]</td>\n    </tr>\n    <tr>\n      <th>1</th>\n      <td>&lt;http://sk.dbpedia.org/resource/%22ale%22&gt;</td>\n      <td>449263</td>\n      <td>\\\"ale\\\"</td>\n      <td>[]</td>\n      <td>[http://sk.dbpedia.org/resource/Ale_(album)]</td>\n      <td>[]</td>\n    </tr>\n  </tbody>\n</table>\n</div>"
     },
     "metadata": {},
     "execution_count": 21
    }
   ],
   "source": [
    "full_data.head(2)"
   ]
  },
  {
   "cell_type": "code",
   "execution_count": 40,
   "metadata": {},
   "outputs": [],
   "source": [
    "def correct_quotation_marks(x):\n",
    "    x.label = x.label.replace('\\\\\"', '\"')\n",
    "    return x"
   ]
  },
  {
   "cell_type": "code",
   "execution_count": 108,
   "metadata": {
    "tags": []
   },
   "outputs": [],
   "source": [
    "full_data = full_data.apply(correct_quotation_marks, axis=1)"
   ]
  },
  {
   "cell_type": "code",
   "execution_count": 48,
   "metadata": {},
   "outputs": [
    {
     "output_type": "execute_result",
     "data": {
      "text/plain": [
       "                                             key      id       label  \\\n",
       "0  <http://sk.dbpedia.org/resource/%22Heroes%22>  474367  \\\"Heroes\\\"   \n",
       "1     <http://sk.dbpedia.org/resource/%22ale%22>  449263     \\\"ale\\\"   \n",
       "\n",
       "  categories                                         links external_links  \n",
       "0         []       [http://sk.dbpedia.org/resource/Heroes]             []  \n",
       "1         []  [http://sk.dbpedia.org/resource/Ale_(album)]             []  "
      ],
      "text/html": "<div>\n<style scoped>\n    .dataframe tbody tr th:only-of-type {\n        vertical-align: middle;\n    }\n\n    .dataframe tbody tr th {\n        vertical-align: top;\n    }\n\n    .dataframe thead th {\n        text-align: right;\n    }\n</style>\n<table border=\"1\" class=\"dataframe\">\n  <thead>\n    <tr style=\"text-align: right;\">\n      <th></th>\n      <th>key</th>\n      <th>id</th>\n      <th>label</th>\n      <th>categories</th>\n      <th>links</th>\n      <th>external_links</th>\n    </tr>\n  </thead>\n  <tbody>\n    <tr>\n      <th>0</th>\n      <td>&lt;http://sk.dbpedia.org/resource/%22Heroes%22&gt;</td>\n      <td>474367</td>\n      <td>\\\"Heroes\\\"</td>\n      <td>[]</td>\n      <td>[http://sk.dbpedia.org/resource/Heroes]</td>\n      <td>[]</td>\n    </tr>\n    <tr>\n      <th>1</th>\n      <td>&lt;http://sk.dbpedia.org/resource/%22ale%22&gt;</td>\n      <td>449263</td>\n      <td>\\\"ale\\\"</td>\n      <td>[]</td>\n      <td>[http://sk.dbpedia.org/resource/Ale_(album)]</td>\n      <td>[]</td>\n    </tr>\n  </tbody>\n</table>\n</div>"
     },
     "metadata": {},
     "execution_count": 48
    }
   ],
   "source": [
    "full_data.head(2)"
   ]
  },
  {
   "cell_type": "code",
   "execution_count": 80,
   "metadata": {},
   "outputs": [
    {
     "output_type": "execute_result",
     "data": {
      "text/plain": [
       "False"
      ]
     },
     "metadata": {},
     "execution_count": 80
    }
   ],
   "source": [
    "full_data.id.isnull().any()"
   ]
  },
  {
   "cell_type": "code",
   "execution_count": 109,
   "metadata": {},
   "outputs": [
    {
     "output_type": "execute_result",
     "data": {
      "text/plain": [
       "rec.array([(     0, 474367, '\"Heroes\"'), (     1, 449263, '\"ale\"'),\n",
       "           (     2, 183674, '%'), ..., (354717,  39368, '♀'),\n",
       "           (354718, 233793, '♄'), (354719, 138675, '♠')],\n",
       "          dtype=[('index', '<i8'), ('id', '<i8'), ('label', 'O')])"
      ]
     },
     "metadata": {},
     "execution_count": 109
    }
   ],
   "source": [
    "full_data[['id', 'label']].to_records()"
   ]
  },
  {
   "cell_type": "code",
   "execution_count": 112,
   "metadata": {},
   "outputs": [],
   "source": [
    "records = full_data[['id', 'label', 'categories']].to_records(index=False)"
   ]
  },
  {
   "cell_type": "code",
   "execution_count": 129,
   "metadata": {
    "tags": []
   },
   "outputs": [],
   "source": [
    "inverted_indices = {}\n",
    "\n",
    "def add_inverted_index(key, value):\n",
    "    l = inverted_indices.get(key, list())\n",
    "    l.append(value)\n",
    "    inverted_indices[key] = l\n",
    "\n",
    "for record in records:\n",
    "    add_inverted_index(record.label, record.id)\n",
    "\n",
    "    for category in record.categories:\n",
    "        add_inverted_index(category, record.id)"
   ]
  },
  {
   "cell_type": "code",
   "execution_count": 137,
   "metadata": {
    "tags": []
   },
   "outputs": [],
   "source": [
    "inverted_indices_for_df = {'Term': [], 'Inverted index': []}\n",
    "for key, value in inverted_indices.items():\n",
    "    inverted_indices_for_df['Term'].append(key)\n",
    "    inverted_indices_for_df['Inverted index'].append(value)\n"
   ]
  },
  {
   "cell_type": "code",
   "execution_count": 142,
   "metadata": {},
   "outputs": [],
   "source": [
    "pd.DataFrame(inverted_indices_for_df).to_csv('index', index=False)"
   ]
  }
 ]
}