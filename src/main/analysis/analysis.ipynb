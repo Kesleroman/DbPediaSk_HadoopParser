{
 "metadata": {
  "language_info": {
   "codemirror_mode": {
    "name": "ipython",
    "version": 3
   },
   "file_extension": ".py",
   "mimetype": "text/x-python",
   "name": "python",
   "nbconvert_exporter": "python",
   "pygments_lexer": "ipython3",
   "version": "3.8.2-final"
  },
  "orig_nbformat": 2,
  "kernelspec": {
   "name": "python3",
   "display_name": "Python 3"
  }
 },
 "nbformat": 4,
 "nbformat_minor": 2,
 "cells": [
  {
   "cell_type": "code",
   "execution_count": 109,
   "metadata": {},
   "outputs": [],
   "source": [
    "import pandas as pd\n",
    "import json"
   ]
  },
  {
   "cell_type": "code",
   "execution_count": 110,
   "metadata": {},
   "outputs": [],
   "source": [
    "data0 = pd.read_csv(\"output_json/part0.json\", header=None, sep=\"\\n\")"
   ]
  },
  {
   "cell_type": "code",
   "execution_count": 111,
   "metadata": {},
   "outputs": [
    {
     "output_type": "execute_result",
     "data": {
      "text/plain": [
       "                                                   0\n",
       "0  {\"key\":\"<http://sk.dbpedia.org/resource/%22Her...\n",
       "1  {\"key\":\"<http://sk.dbpedia.org/resource/%22ale..."
      ],
      "text/html": "<div>\n<style scoped>\n    .dataframe tbody tr th:only-of-type {\n        vertical-align: middle;\n    }\n\n    .dataframe tbody tr th {\n        vertical-align: top;\n    }\n\n    .dataframe thead th {\n        text-align: right;\n    }\n</style>\n<table border=\"1\" class=\"dataframe\">\n  <thead>\n    <tr style=\"text-align: right;\">\n      <th></th>\n      <th>0</th>\n    </tr>\n  </thead>\n  <tbody>\n    <tr>\n      <th>0</th>\n      <td>{\"key\":\"&lt;http://sk.dbpedia.org/resource/%22Her...</td>\n    </tr>\n    <tr>\n      <th>1</th>\n      <td>{\"key\":\"&lt;http://sk.dbpedia.org/resource/%22ale...</td>\n    </tr>\n  </tbody>\n</table>\n</div>"
     },
     "metadata": {},
     "execution_count": 111
    }
   ],
   "source": [
    "data0.head(2)"
   ]
  },
  {
   "cell_type": "code",
   "execution_count": 112,
   "metadata": {},
   "outputs": [],
   "source": [
    "def load_data(path):\n",
    "    data = pd.read_csv(path, header=None, sep=\"\\n\")\n",
    "    data_dict = {\n",
    "        'key':[],\n",
    "        'id':[],\n",
    "        'label':[],\n",
    "        'categories':[],\n",
    "        'links':[],\n",
    "        'external_links':[]\n",
    "    }\n",
    "\n",
    "    for _, row in data.iterrows():\n",
    "        row_json = json.loads(row[0])\n",
    "        \n",
    "        data_dict['key'].append(row_json['key'])\n",
    "        data_dict['id'].append(row_json['value']['id']['int'])\n",
    "        label = row_json['value']['pageLabel']['string'] if row_json['value']['pageLabel'] != None else \"\"  \n",
    "        data_dict['label'].append(label)\n",
    "        data_dict['categories'].append(row_json['value']['categories'])\n",
    "        data_dict['links'].append(row_json['value']['links'])\n",
    "        data_dict['external_links'].append(row_json['value']['externalLinks'])\n",
    "\n",
    "    return pd.DataFrame(data_dict)"
   ]
  },
  {
   "cell_type": "code",
   "execution_count": 113,
   "metadata": {},
   "outputs": [],
   "source": [
    "data0 = load_data(\"output_json/part0.json\")\n",
    "data1 = load_data(\"output_json/part1.json\")\n",
    "data2 = load_data(\"output_json/part2.json\")\n",
    "data3 = load_data(\"output_json/part3.json\")"
   ]
  },
  {
   "source": [
    "----------\n",
    "Let's count **number of pages**"
   ],
   "cell_type": "markdown",
   "metadata": {}
  },
  {
   "cell_type": "code",
   "execution_count": 114,
   "metadata": {},
   "outputs": [
    {
     "output_type": "execute_result",
     "data": {
      "text/plain": [
       "2128320"
      ]
     },
     "metadata": {},
     "execution_count": 114
    }
   ],
   "source": [
    "data0.size + data1.size + data2.size + data3.size"
   ]
  },
  {
   "source": [
    "----------\n",
    "Check whether there are some **duplicates**"
   ],
   "cell_type": "markdown",
   "metadata": {}
  },
  {
   "cell_type": "code",
   "execution_count": 115,
   "metadata": {},
   "outputs": [
    {
     "output_type": "stream",
     "name": "stdout",
     "text": [
      "False False False False\n"
     ]
    }
   ],
   "source": [
    "r1 = data0.key.duplicated().any()\n",
    "r2 = data1.key.duplicated().any()\n",
    "r3 = data2.key.duplicated().any()\n",
    "r4 = data3.key.duplicated().any()\n",
    "print(r1, r2, r3, r4)"
   ]
  },
  {
   "source": [
    "So, there are **no** duplicates\n",
    "_______________________\n"
   ],
   "cell_type": "markdown",
   "metadata": {}
  },
  {
   "source": [
    "Let's find out a site with the highest number of categories "
   ],
   "cell_type": "markdown",
   "metadata": {}
  },
  {
   "cell_type": "code",
   "execution_count": 116,
   "metadata": {},
   "outputs": [],
   "source": [
    "max_i0 = data0.categories.apply(lambda x: len(x)).idxmax()\n",
    "max_i1 = data1.categories.apply(lambda x: len(x)).idxmax()\n",
    "max_i2 = data2.categories.apply(lambda x: len(x)).idxmax()\n",
    "max_i3 = data3.categories.apply(lambda x: len(x)).idxmax() "
   ]
  },
  {
   "cell_type": "code",
   "execution_count": 117,
   "metadata": {},
   "outputs": [
    {
     "output_type": "execute_result",
     "data": {
      "text/plain": [
       "(62, 28, 29, 31)"
      ]
     },
     "metadata": {},
     "execution_count": 117
    }
   ],
   "source": [
    "len(data0.iloc[max_i0].categories) , len(data1.iloc[max_i1].categories), len(data2.iloc[max_i2].categories), len(data3.iloc[max_i3].categories)"
   ]
  },
  {
   "cell_type": "code",
   "execution_count": 118,
   "metadata": {},
   "outputs": [
    {
     "output_type": "execute_result",
     "data": {
      "text/plain": [
       "'Angličtina'"
      ]
     },
     "metadata": {},
     "execution_count": 118
    }
   ],
   "source": [
    "data0.iloc[max_i0].label"
   ]
  },
  {
   "cell_type": "code",
   "execution_count": 119,
   "metadata": {},
   "outputs": [
    {
     "output_type": "execute_result",
     "data": {
      "text/plain": [
       "'<http://sk.dbpedia.org/resource/Angličtina>'"
      ]
     },
     "metadata": {},
     "execution_count": 119
    }
   ],
   "source": [
    "data0.iloc[max_i0].key"
   ]
  },
  {
   "cell_type": "code",
   "execution_count": 120,
   "metadata": {},
   "outputs": [
    {
     "output_type": "execute_result",
     "data": {
      "text/plain": [
       "['Jazyky_v_Antigue_a_Barbude',\n",
       " 'Jazyky_v_Zimbabwe',\n",
       " 'Jazyky_v_Zambii',\n",
       " 'Jazyky_v_USA',\n",
       " 'Jazyky_vo_Vanuatu',\n",
       " 'Jazyky_v_Ugande',\n",
       " 'Jazyky_v_Tuvalu',\n",
       " 'Jazyky_v_Tonge',\n",
       " 'Jazyky_v_Trinidade_a_Tobagu',\n",
       " 'Jazyky_v_Tanzánii',\n",
       " 'Jazyky_na_Šalamúnových_ostrovoch',\n",
       " 'Jazyky_na_Svätom_Vincente_a_Grenadínach',\n",
       " 'Jazyky_na_Svätom_Krištofe_a_Nevise',\n",
       " 'Jazyky_na_Svätej_Lucii',\n",
       " 'Jazyky_v_Svazijsku',\n",
       " 'Jazyky_v_Sudáne',\n",
       " 'Jazyky_v_Spojenom_kráľovstve',\n",
       " 'Jazyky_v_Singapure',\n",
       " 'Jazyky_v_Sierra_Leone',\n",
       " 'Jazyky_na_Seychelách',\n",
       " 'Jazyky_v_Samoe',\n",
       " 'Jazyky_v_Rwande',\n",
       " 'Jazyky_v_Papui-Novej_Guinei',\n",
       " 'Jazyky_v_Palau',\n",
       " 'Jazyky_v_Pakistane',\n",
       " 'Jazyky_na_Novom_Zélande',\n",
       " 'Jazyky_v_Nigérii',\n",
       " 'Jazyky_v_Nauru',\n",
       " 'Jazyky_v_Namíbii',\n",
       " 'Jazyky_v_Mikronézskych_federatívnych_štátoch',\n",
       " 'Jazyky_na_Mauríciu',\n",
       " 'Jazyky_na_Marshallových_ostrovoch',\n",
       " 'Jazyky_na_Malte',\n",
       " 'Jazyky_v_Malawi',\n",
       " 'Jazyky_v_Libérii',\n",
       " 'Jazyky_v_Lesothe',\n",
       " 'Jazyky_v_Kiribati',\n",
       " 'Jazyky_v_Keni',\n",
       " 'Jazyky_v_Kanade',\n",
       " 'Jazyky_v_Kamerune',\n",
       " 'Jazyky_v_Južnom_Sudáne',\n",
       " 'Jazyky_v_Južnej_Afrike',\n",
       " 'Jazyky_na_Jamajke',\n",
       " 'Jazyky_v_Írsku',\n",
       " 'Jazyky_v_Indii',\n",
       " 'Jazyky_v_Grenade',\n",
       " 'Jazyky_v_Guyane',\n",
       " 'Jazyky_v_Ghane',\n",
       " 'Jazyky_v_Gambii',\n",
       " 'Jazyky_na_Filipínach',\n",
       " 'Jazyky_na_Fidži',\n",
       " 'Jazyky_v_Eritrei',\n",
       " 'Jazyky_v_Dominike',\n",
       " 'Jazyky_na_Cookových_ostrovoch',\n",
       " 'Jazyky_v_Botswane',\n",
       " 'Jazyky_v_Belize',\n",
       " 'Jazyky_na_Barbadose',\n",
       " 'Angličtina',\n",
       " 'Angličania',\n",
       " 'Západogermánske_jazyky',\n",
       " 'Jazyky_na_Bahamách',\n",
       " 'Jazyky_v_Austrálii']"
      ]
     },
     "metadata": {},
     "execution_count": 120
    }
   ],
   "source": [
    "data0.iloc[max_i0].categories"
   ]
  },
  {
   "source": [
    "-----------\n",
    "External links"
   ],
   "cell_type": "markdown",
   "metadata": {}
  },
  {
   "cell_type": "code",
   "execution_count": 121,
   "metadata": {},
   "outputs": [],
   "source": [
    "\n",
    "max_i0 = data0.external_links.apply(lambda x: len(x)).idxmax()\n",
    "max_i1 = data1.external_links.apply(lambda x: len(x)).idxmax()\n",
    "max_i2 = data2.external_links.apply(lambda x: len(x)).idxmax()\n",
    "max_i3 = data3.external_links.apply(lambda x: len(x)).idxmax() "
   ]
  },
  {
   "cell_type": "code",
   "execution_count": 122,
   "metadata": {},
   "outputs": [
    {
     "output_type": "execute_result",
     "data": {
      "text/plain": [
       "(154, 489, 493, 254)"
      ]
     },
     "metadata": {},
     "execution_count": 122
    }
   ],
   "source": [
    "len(data0.iloc[max_i0].external_links) , len(data1.iloc[max_i1].external_links), len(data2.iloc[max_i2].external_links), len(data3.iloc[max_i3].external_links)"
   ]
  },
  {
   "cell_type": "code",
   "execution_count": 123,
   "metadata": {},
   "outputs": [
    {
     "output_type": "execute_result",
     "data": {
      "text/plain": [
       "'<http://sk.dbpedia.org/resource/Zoznam_ostrovov_Írska>'"
      ]
     },
     "metadata": {},
     "execution_count": 123
    }
   ],
   "source": [
    "data2.iloc[max_i2].key"
   ]
  },
  {
   "cell_type": "code",
   "execution_count": 124,
   "metadata": {},
   "outputs": [
    {
     "output_type": "execute_result",
     "data": {
      "text/plain": [
       "\n",
       " 'http://www.logainm.ie/13005.aspx',\n",
       " 'http://maps.osi.ie/publicviewer/#V1,503375,527650,5',\n",
       " 'http://www.logainm.ie/13016.aspx',\n",
       " 'http://maps.osi.ie/publicviewer/#V1,522139,531462,6',\n",
       " 'http://www.logainm.ie/13263.aspx',\n",
       " 'http://maps.osi.ie/publicviewer/#V1,488482,516379,6',\n",
       " 'http://www.logainm.ie/1165639.aspx',\n",
       " 'http://maps.osi.ie/publicviewer/#V1,501635,525166,4',\n",
       " 'http://www.logainm.ie/543.aspx',\n",
       " 'http://maps.osi.ie/publicviewer/#V1,496008,521691,4',\n",
       " 'http://www.logainm.ie/20721.aspx',\n",
       " 'http://www.ntnu.no/ub/formidl/utgivelser/til_opplysning/to_nr16.pdf',\n",
       " 'http://www.irelandsislands.ie/',\n",
       " 'http://irishislands.info/',\n",
       " 'http://www.oileain.ie/en/',\n",
       " 'http://www.cso.ie/census/documents/census2006_Volume%201%20-%20Table%206.pdf',\n",
       " 'http://books.google.com/books?id=UZ1bAAAAQAAJ&pg=RA4-PA63',\n",
       " 'http://books.google.com/books?id=UZ1bAAAAQAAJ&pg=RA6-PA1',\n",
       " 'http://books.google.com/books?id=UZ1bAAAAQAAJ&pg=RA5-PA1',\n",
       " 'http://books.google.com/books?id=UZ1bAAAAQAAJ&pg=RA4-PA1',\n",
       " 'http://books.google.com/books?id=UZ1bAAAAQAAJ&pg=RA3-PA1',\n",
       " 'http://books.google.com/books?id=UZ1bAAAAQAAJ&pg=RA2-PA1',\n",
       " 'http://books.google.co/books?id=UZ1bAAAAQAAJ&pg=PA65',\n",
       " 'http://books.google.com/books?id=UZ1bAAAAQAAJ&pg=PA1',\n",
       " 'http://pdf.library.soton.ac.uk/EPPI/328-2.pdf',\n",
       " 'http://pdf.library.soton.ac.uk/EPPI/328-1.pdf#page=94',\n",
       " 'http://books.google.com/books?id=UZ1bAAAAQAAJ&pg=RA1-PR14',\n",
       " 'http://books.google.com/books?id=UZ1bAAAAQAAJ&pg=PR24',\n",
       " 'http://books.google.com/books?id=UZ1bAAAAQAAJ&pg=PP31',\n",
       " 'http://books.google.com/books?id=UZ1bAAAAQAAJ&pg=PP11',\n",
       " 'http://books.google.com/books?id=1HMuAAAAMAAJ',\n",
       " 'http://books.google.com/books?id=4iK5_B7W1xIC',\n",
       " 'http://books.google.com/books?id=9rblf03SdkYC',\n",
       " 'http://www.logainm.ie/14546.aspx',\n",
       " 'http://maps.osi.ie/publicviewer/#V1,648480,965344,5',\n",
       " 'http://www.logainm.ie/1166237.aspx',\n",
       " 'http://maps.osi.ie/publicviewer/#V1,632074,924630,4',\n",
       " 'http://www.logainm.ie/15974.aspx',\n",
       " 'http://maps.osi.ie/publicviewer/#V1,625718,922797,5',\n",
       " 'http://www.logainm.ie/16063.aspx',\n",
       " 'http://maps.osi.ie/publicviewer/#V1,613335,938085,5',\n",
       " 'http://www.logainm.ie/14500.aspx',\n",
       " 'http://maps.osi.ie/publicviewer/#V1,585814,946451,4',\n",
       " 'http://www.logainm.ie/14449.aspx',\n",
       " 'http://maps.osi.ie/publicviewer/#V1,589558,938395,5',\n",
       " 'http://www.logainm.ie/14448.aspx',\n",
       " 'http://maps.osi.ie/publicviewer/#V1,588779,936621,5',\n",
       " 'http://www.logainm.ie/1166267.aspx',\n",
       " 'http://maps.osi.ie/publicviewer/#V1,578368,930258,5',\n",
       " 'http://www.logainm.ie/14495.aspx',\n",
       " 'http://maps.osi.ie/publicviewer/#V1,578460,928614,5',\n",
       " 'http://www.logainm.ie/14467.aspx',\n",
       " 'http://maps.osi.ie/publicviewer/#V1,576747,926899,5',\n",
       " 'http://www.logainm.ie/1390473.aspx',\n",
       " 'http://maps.osi.ie/publicviewer/#V1,578503,925290,6',\n",
       " 'http://www.logainm.ie/14514.aspx',\n",
       " 'http://maps.osi.ie/publicviewer/#V1,575702,924089,6',\n",
       " 'http://www.logainm.ie/15013.aspx',\n",
       " 'http://maps.osi.ie/publicviewer/#V1,571254,923127,5',\n",
       " 'http://www.logainm.ie/111107.aspx',\n",
       " 'http://maps.osi.ie/publicviewer/#V1,573403,920566,4',\n",
       " 'http://www.logainm.ie/14527.aspx',\n",
       " 'http://maps.osi.ie/publicviewer/#V1,566735,915804,4',\n",
       " 'http://www.logainm.ie/14997.aspx',\n",
       " 'http://maps.osi.ie/publicviewer/#V1,569791,916039,6',\n",
       " 'http://www.logainm.ie/15000.aspx',\n",
       " 'http://maps.osi.ie/publicviewer/#V1,570563,915690,6',\n",
       " 'http://www.logainm.ie/15002.aspx',\n",
       " 'http://maps.osi.ie/publicviewer/#V1,570703,914401,5',\n",
       " 'http://www.logainm.ie/14943.aspx',\n",
       " 'http://maps.osi.ie/publicviewer/#V1,572723,911332,6',\n",
       " 'http://www.logainm.ie/14945.aspx',\n",
       " 'http://maps.osi.ie/publicviewer/#V1,571404,912086,5',\n",
       " 'http://www.logainm.ie/14535.aspx',\n",
       " 'http://maps.osi.ie/publicviewer/#V1,568274,912310,6',\n",
       " 'http://www.logainm.ie/1166244.aspx',\n",
       " 'http://maps.osi.ie/publicviewer/#V1,570703,900126,5',\n",
       " 'http://www.logainm.ie/1166602.aspx',\n",
       " 'http://maps.osi.ie/publicviewer/#V1,546467,879964,5',\n",
       " 'http://www.logainm.ie/14875.aspx',\n",
       " 'http://maps.osi.ie/publicviewer/#V1,571556,874164,7',\n",
       " 'http://www.logainm.ie/14297.aspx',\n",
       " 'http://maps.osi.ie/publicviewer/#V1,590938,875121,6',\n",
       " 'http://www.logainm.ie/14142.aspx',\n",
       " 'http://maps.osi.ie/publicviewer/#V1,590937,874402,6',\n",
       " 'http://www.logainm.ie/45207.aspx',\n",
       " 'http://maps.osi.ie/publicviewer/#V1,567764,852838,5',\n",
       " 'http://www.logainm.ie/45206.aspx',\n",
       " 'http://maps.osi.ie/publicviewer/#V1,565449,851501,4',\n",
       " 'http://www.logainm.ie/45211.aspx',\n",
       " 'http://maps.osi.ie/publicviewer/#V1,557167,854039,5',\n",
       " 'http://www.logainm.ie/45365.aspx',\n",
       " 'http://maps.osi.ie/publicviewer/#V1,563120,839395,6',\n",
       " 'http://www.logainm.ie/45348.aspx',\n",
       " 'http://maps.osi.ie/publicviewer/#V1,561658,838814,4',\n",
       " 'http://www.logainm.ie/34513.aspx',\n",
       " 'http://maps.osi.ie/publicviewer/#V1,523650,829917,4',\n",
       " 'http://www.logainm.ie/1399573.aspx',\n",
       " 'http://maps.osi.ie/publicviewer/#V1,493461,843186,6',\n",
       " 'http://www.logainm.ie/35405.aspx',\n",
       " 'http://maps.osi.ie/publicviewer/#V1,478741,843607,6',\n",
       " 'http://www.logainm.ie/1166546.aspx',\n",
       " 'http://maps.osi.ie/publicviewer/#V1,463837,839148,6',\n",
       " 'http://www.logainm.ie/1166254.aspx',\n",
       " 'http://maps.osi.ie/publicviewer/#V1,461171,831259,6',\n",
       " 'http://www.logainm.ie/35277.aspx',\n",
       " 'http://maps.osi.ie/publicviewer/#V1,456361,823066,4',\n",
       " 'http://www.logainm.ie/35278.aspx',\n",
       " 'http://maps.osi.ie/publicviewer/#V1,454737,820681,4',\n",
       " 'http://www.logainm.ie/35272.aspx',\n",
       " 'http://maps.osi.ie/publicviewer/#V1,457886,816157,5',\n",
       " 'http://www.logainm.ie/35271.aspx',\n",
       " 'http://maps.osi.ie/publicviewer/#V1,459314,816490,6',\n",
       " 'http://www.logainm.ie/35255.aspx',\n",
       " 'http://maps.osi.ie/publicviewer/#V1,466720,825799,5',\n",
       " 'http://www.logainm.ie/36863.aspx',\n",
       " 'http://maps.osi.ie/publicviewer/#V1,475091,806698,5',\n",
       " 'http://www.logainm.ie/36937.aspx',\n",
       " 'http://maps.osi.ie/publicviewer/#V1,477697,805495,4',\n",
       " 'http://www.logainm.ie/1165356.aspx',\n",
       " 'http://maps.osi.ie/publicviewer/#V1,471498,792459,5',\n",
       " 'http://www.logainm.ie/1165355.aspx',\n",
       " 'http://maps.osi.ie/publicviewer/#V1,467400,801317,3',\n",
       " 'http://www.logainm.ie/37481.aspx',\n",
       " 'http://maps.osi.ie/publicviewer/#V1,486431,794484,5',\n",
       " 'http://www.logainm.ie/37461.aspx',\n",
       " 'http://maps.osi.ie/publicviewer/#V1,487568,793848,6',\n",
       " 'http://www.logainm.ie/37466.aspx',\n",
       " 'http://maps.osi.ie/publicviewer/#V1,487746,794505,6',\n",
       " 'http://www.logainm.ie/37469.aspx',\n",
       " 'http://maps.osi.ie/publicviewer/#V1,751062,864185,6',\n",
       " 'http://maps.osi.ie/publicviewer/#V1,712338,951415,3',\n",
       " 'http://www.logainm.ie/61298.aspx',\n",
       " 'http://maps.osi.ie/publicviewer/#V1,745280,912331,3',\n",
       " 'http://www.logainm.ie/1166440.aspx',\n",
       " 'http://maps.osi.ie/publicviewer/#V1,759090,883624,5',\n",
       " 'http://www.logainm.ie/1166534.aspx',\n",
       " 'http://maps.osi.ie/publicviewer/#V1,767569,853140,4',\n",
       " 'http://maps.osi.ie/publicviewer/#V1,756620,867248,6',\n",
       " 'http://www.logainm.ie/65848.aspx',\n",
       " 'http://maps.osi.ie/publicviewer/#V1,487791,795288,6',\n",
       " 'http://www.logainm.ie/37468.aspx',\n",
       " 'http://maps.osi.ie/publicviewer/#V1,489469,793873,6',\n",
       " 'http://www.logainm.ie/37467.aspx',\n",
       " 'http://maps.osi.ie/publicviewer/#V1,749422,868900,7',\n",
       " 'http://maps.osi.ie/publicviewer/#V1,488661,795003,6',\n",
       " 'http://www.logainm.ie/37459.aspx',\n",
       " 'http://maps.osi.ie/publicviewer/#V1,488854,795422,6',\n",
       " 'http://www.logainm.ie/37471.aspx',\n",
       " 'http://maps.osi.ie/publicviewer/#V1,488818,794111,6',\n",
       " 'http://www.logainm.ie/37473.aspx',\n",
       " 'http://www.logainm.ie/66037.aspx',\n",
       " 'http://maps.osi.ie/publicviewer/#V1,489744,794727,6',\n",
       " 'http://www.logainm.ie/37472.aspx',\n",
       " 'http://maps.osi.ie/publicviewer/#V1,490445,794323,6',\n",
       " 'http://www.logainm.ie/37494.aspx',\n",
       " 'http://maps.osi.ie/publicviewer/#V1,491297,794592,6',\n",
       " 'http://www.logainm.ie/37436.aspx',\n",
       " 'http://maps.osi.ie/publicviewer/#V1,496052,794246,5',\n",
       " 'http://www.logainm.ie/37079.aspx',\n",
       " 'http://maps.osi.ie/publicviewer/#V1,752498,864956,5',\n",
       " 'http://www.logainm.ie/66111.aspx',\n",
       " 'http://maps.osi.ie/publicviewer/#V1,494732,793076,6',\n",
       " 'http://www.logainm.ie/37089.aspx',\n",
       " 'http://maps.osi.ie/publicviewer/#V1,495281,792567,6',\n",
       " 'http://www.logainm.ie/37099.aspx',\n",
       " 'http://maps.osi.ie/publicviewer/#V1,494849,791429,6',\n",
       " 'http://maps.osi.ie/publicviewer/#V1,753199,864042,5',\n",
       " 'http://www.logainm.ie/37292.aspx',\n",
       " 'http://maps.osi.ie/publicviewer/#V1,494003,790880,6',\n",
       " 'http://www.logainm.ie/66110.aspx',\n",
       " 'http://www.logainm.ie/66116.aspx',\n",
       " 'http://maps.osi.ie/publicviewer/#V1,752750,863053,6',\n",
       " 'http://www.logainm.ie/65894.aspx',\n",
       " 'http://maps.osi.ie/publicviewer/#V1,752642,862524,6',\n",
       " 'http://www.logainm.ie/65898.aspx',\n",
       " 'http://maps.osi.ie/publicviewer/#V1,753631,861966,6',\n",
       " 'http://www.logainm.ie/37280.aspx',\n",
       " 'http://www.logainm.ie/65899.aspx',\n",
       " 'http://maps.osi.ie/publicviewer/#V1,754207,861002,7',\n",
       " 'http://maps.osi.ie/publicviewer/#V1,492834,790487,6',\n",
       " 'http://www.logainm.ie/37289.aspx',\n",
       " 'http://maps.osi.ie/publicviewer/#V1,493741,790206,6',\n",
       " 'http://www.logainm.ie/37290.aspx',\n",
       " 'http://maps.osi.ie/publicviewer/#V1,490094,791085,6',\n",
       " 'http://www.logainm.ie/37282.aspx',\n",
       " 'http://maps.osi.ie/publicviewer/#V1,491067,791130,6',\n",
       " 'http://www.logainm.ie/65896.aspx',\n",
       " 'http://www.logainm.ie/37279.aspx',\n",
       " 'http://maps.osi.ie/publicviewer/#V1,490095,790151,5',\n",
       " 'http://www.logainm.ie/37262.aspx',\n",
       " 'http://maps.osi.ie/publicviewer/#V1,491325,790212,6',\n",
       " 'http://www.logainm.ie/37298.aspx',\n",
       " 'http://maps.osi.ie/publicviewer/#V1,491035,789611,6',\n",
       " 'http://www.logainm.ie/37293.aspx',\n",
       " 'http://maps.osi.ie/publicviewer/#V1,490303,789264,5',\n",
       " 'http://www.logainm.ie/37251.aspx',\n",
       " 'http://maps.osi.ie/publicviewer/#V1,492289,789419,6',\n",
       " 'http://www.logainm.ie/37253.aspx',\n",
       " 'http://maps.osi.ie/publicviewer/#V1,492038,788232,5',\n",
       " 'http://www.logainm.ie/37281.aspx',\n",
       " 'http://maps.osi.ie/publicviewer/#V1,490208,787875,6',\n",
       " 'http://www.logainm.ie/37288.aspx',\n",
       " 'http://maps.osi.ie/publicviewer/#V1,491200,787286,6',\n",
       " 'http://www.logainm.ie/37260.aspx',\n",
       " 'http://maps.osi.ie/publicviewer/#V1,491795,786607,6',\n",
       " 'http://www.logainm.ie/37275.aspx',\n",
       " 'http://maps.osi.ie/publicviewer/#V1,492784,786817,6',\n",
       " 'http://www.logainm.ie/114009.aspx',\n",
       " 'http://maps.osi.ie/publicviewer/#V1,494826,783304,5',\n",
       " 'http://www.logainm.ie/37291.aspx',\n",
       " 'http://maps.osi.ie/publicviewer/#V1,492490,785205,6',\n",
       " 'http://www.logainm.ie/37323.aspx',\n",
       " 'http://maps.osi.ie/publicviewer/#V1,492022,784552,6',\n",
       " 'http://maps.osi.ie/publicviewer/#V1,752945,860877,5',\n",
       " 'http://www.logainm.ie/66233.aspx',\n",
       " 'http://maps.osi.ie/publicviewer/#V1,754308,859070,6',\n",
       " 'http://www.logainm.ie/nnnnn.aspx',\n",
       " 'http://maps.osi.ie/publicviewer/#V1,490042,785848,6',\n",
       " 'http://www.logainm.ie/36982.aspx',\n",
       " 'http://maps.osi.ie/publicviewer/#V1,468617,785956,4',\n",
       " 'http://www.logainm.ie/1166544.aspx',\n",
       " 'http://maps.osi.ie/publicviewer/#V1,465919,776107,5',\n",
       " 'http://www.logainm.ie/66236.aspx',\n",
       " 'http://www.logainm.ie/1375327.aspx',\n",
       " 'http://maps.osi.ie/publicviewer/#V1,754080,858065,5',\n",
       " 'http://www.logainm.ie/66241.aspx',\n",
       " 'http://maps.osi.ie/publicviewer/#V1,460640,774559,4',\n",
       " 'http://www.logainm.ie/18144.aspx',\n",
       " 'http://maps.osi.ie/publicviewer/#V1,467651,765598,5',\n",
       " 'http://www.logainm.ie/18234.aspx',\n",
       " 'http://maps.osi.ie/publicviewer/#V1,458734,766342,5',\n",
       " 'http://www.logainm.ie/1166239.aspx',\n",
       " 'http://maps.osi.ie/publicviewer/#V1,448938,764695,5',\n",
       " 'http://www.logainm.ie/18241.aspx',\n",
       " 'http://maps.osi.ie/publicviewer/#V1,456551,764632,6',\n",
       " 'http://www.logainm.ie/18238.aspx',\n",
       " 'http://maps.osi.ie/publicviewer/#V1,453575,765793,4',\n",
       " 'http://www.logainm.ie/18376.aspx',\n",
       " 'http://maps.osi.ie/publicviewer/#V1,450295,757447,5',\n",
       " 'http://www.logainm.ie/18367.aspx',\n",
       " 'http://maps.osi.ie/publicviewer/#V1,452973,755026,6',\n",
       " 'http://maps.osi.ie/publicviewer/#V1,754256,857303,6',\n",
       " 'http://www.logainm.ie/66271.aspx',\n",
       " 'http://www.logainm.ie/1166277.aspx',\n",
       " 'http://maps.osi.ie/publicviewer/#V1,456391,755686,5',\n",
       " 'http://www.logainm.ie/1166271.aspx',\n",
       " 'http://maps.osi.ie/publicviewer/#V1,457158,753384,6',\n",
       " 'http://www.logainm.ie/18142.aspx',\n",
       " 'http://maps.osi.ie/publicviewer/#V1,457264,752253,5',\n",
       " 'http://www.logainm.ie/18192.aspx',\n",
       " 'http://maps.osi.ie/publicviewer/#V1,451675,741039,6',\n",
       " 'http://maps.osi.ie/publicviewer/#V1,753139,855729,7',\n",
       " 'http://www.logainm.ie/18090.aspx',\n",
       " 'http://maps.osi.ie/publicviewer/#V1,464177,740923,6,1',\n",
       " 'http://www.logainm.ie/18352.aspx',\n",
       " 'http://maps.osi.ie/publicviewer/#V1,471696,737490,5',\n",
       " 'http://www.logainm.ie/18353.aspx',\n",
       " 'http://maps.osi.ie/publicviewer/#V1,473615,740175,4',\n",
       " 'http://www.logainm.ie/18313.aspx',\n",
       " 'http://maps.osi.ie/publicviewer/#V1,478527,739886,6,1',\n",
       " 'http://www.logainm.ie/18262.aspx',\n",
       " 'http://maps.osi.ie/publicviewer/#V1,473152,735188,6',\n",
       " 'http://www.logainm.ie/66274.aspx',\n",
       " 'http://maps.osi.ie/publicviewer/#V1,753266,854726,5',\n",
       " 'http://www.logainm.ie/66266.aspx',\n",
       " 'http://maps.osi.ie/publicviewer/#V1,751051,848815,6',\n",
       " 'http://www.logainm.ie/66882.aspx',\n",
       " 'http://maps.osi.ie/publicviewer/#V1,752071,849423,6',\n",
       " 'http://www.logainm.ie/66883.aspx',\n",
       " 'http://maps.osi.ie/publicviewer/#V1,752959,850202,6',\n",
       " 'http://www.logainm.ie/66895.aspx',\n",
       " 'http://www.logainm.ie/1165930.aspx',\n",
       " 'http://maps.osi.ie/publicviewer/#V1,468495,732463,5',\n",
       " 'http://www.logainm.ie/18280.aspx',\n",
       " 'http://maps.osi.ie/publicviewer/#V1,471908,730161,6',\n",
       " 'http://maps.osi.ie/publicviewer/#V1,732083,762664,6',\n",
       " 'http://www.logainm.ie/1166541.aspx',\n",
       " 'http://www.logainm.ie/1165790.aspx',\n",
       " 'http://maps.osi.ie/publicviewer/#V1,474170,729446,6',\n",
       " 'http://www.logainm.ie/1166448.aspx',\n",
       " 'http://maps.osi.ie/publicviewer/#V1,476376,729602,4',\n",
       " 'http://maps.osi.ie/publicviewer/#V1,726481,761118,5',\n",
       " 'http://www.logainm.ie/18278.aspx',\n",
       " 'http://maps.osi.ie/publicviewer/#V1,477557,730465,5',\n",
       " 'http://www.logainm.ie/1166125.aspx',\n",
       " 'http://maps.osi.ie/publicviewer/#V1,479181,728729,5',\n",
       " 'http://www.logainm.ie/20928.aspx',\n",
       " 'http://maps.osi.ie/publicviewer/#V1,488645,734732,6',\n",
       " 'http://www.logainm.ie/1398093.aspx',\n",
       " 'http://maps.osi.ie/publicviewer/#V1,489693,734927,6',\n",
       " 'http://www.logainm.ie/18341.aspx',\n",
       " 'http://maps.osi.ie/publicviewer/#V1,490438,734550,7',\n",
       " 'http://www.logainm.ie/20931.aspx',\n",
       " 'http://maps.osi.ie/publicviewer/#V1,493787,734688,6',\n",
       " 'http://www.logainm.ie/20706.aspx',\n",
       " 'http://maps.osi.ie/publicviewer/#V1,494041,733733,5',\n",
       " 'http://www.logainm.ie/17032.aspx',\n",
       " 'http://www.logainm.ie/18158.aspx',\n",
       " 'http://maps.osi.ie/publicviewer/#V1,727491,761248,4',\n",
       " 'http://maps.osi.ie/publicviewer/#V1,488534,731128,5',\n",
       " 'http://www.logainm.ie/20809.aspx',\n",
       " 'http://maps.osi.ie/publicviewer/#V1,484232,726950,6',\n",
       " 'http://www.logainm.ie/20813.aspx',\n",
       " 'http://maps.osi.ie/publicviewer/#V1,485841,726677,5',\n",
       " 'http://www.logainm.ie/17034.aspx',\n",
       " 'http://maps.osi.ie/publicviewer/#V1,482844,724977,5',\n",
       " 'http://www.logainm.ie/20727.aspx',\n",
       " 'http://maps.osi.ie/publicviewer/#V1,482932,723480,6',\n",
       " 'http://www.logainm.ie/20724.aspx',\n",
       " 'http://maps.osi.ie/publicviewer/#V1,483629,724196,5',\n",
       " 'http://www.logainm.ie/20720.aspx',\n",
       " 'http://maps.osi.ie/publicviewer/#V1,483083,722727,6',\n",
       " 'http://www.logainm.ie/20728.aspx',\n",
       " 'http://maps.osi.ie/publicviewer/#V1,484265,723157,4',\n",
       " 'http://www.logainm.ie/1166158.aspx',\n",
       " 'http://maps.osi.ie/publicviewer/#V1,487837,723421,3',\n",
       " 'http://www.logainm.ie/20818.aspx',\n",
       " 'http://maps.osi.ie/publicviewer/#V1,488426,728600,4',\n",
       " 'http://www.logainm.ie/20814.aspx',\n",
       " 'http://maps.osi.ie/publicviewer/#V1,489778,730319,6',\n",
       " 'http://www.logainm.ie/20803.aspx',\n",
       " 'http://maps.osi.ie/publicviewer/#V1,491032,730505,5',\n",
       " 'http://www.logainm.ie/20702.aspx',\n",
       " 'http://maps.osi.ie/publicviewer/#V1,491871,727001,5',\n",
       " 'http://www.logainm.ie/20704.aspx',\n",
       " 'http://maps.osi.ie/publicviewer/#V1,492766,727456,6',\n",
       " 'http://maps.osi.ie/publicviewer/#V1,531132,719214,5',\n",
       " 'http://www.logainm.ie/1166796.aspx',\n",
       " 'http://maps.osi.ie/publicviewer/#V1,532230,719362,6',\n",
       " 'http://www.logainm.ie/18613.aspx',\n",
       " 'http://maps.osi.ie/publicviewer/#V1,534193,716453,5',\n",
       " 'http://www.logainm.ie/938.aspx',\n",
       " 'http://maps.osi.ie/publicviewer/#V1,485791,709366,3',\n",
       " 'http://www.logainm.ie/937.aspx',\n",
       " 'http://maps.osi.ie/publicviewer/#V1,494019,704842,4',\n",
       " 'http://www.logainm.ie/18684.aspx',\n",
       " 'http://maps.osi.ie/publicviewer/#V1,497439,701793,4',\n",
       " 'http://www.logainm.ie/1166074.aspx',\n",
       " 'http://maps.osi.ie/publicviewer/#V1,528722,713053,5',\n",
       " 'http://www.logainm.ie/1166533.aspx',\n",
       " 'http://maps.osi.ie/publicviewer/#V1,497258,674503,5',\n",
       " 'http://www.logainm.ie/7214.aspx',\n",
       " 'http://maps.osi.ie/publicviewer/#V1,497099,652228,5',\n",
       " 'http://www.logainm.ie/7205.aspx',\n",
       " 'http://maps.osi.ie/publicviewer/#V1,498465,653222,6',\n",
       " 'http://www.logainm.ie/6968.aspx',\n",
       " 'http://maps.osi.ie/publicviewer/#V1,526325,658013,5',\n",
       " 'http://maps.osi.ie/publicviewer/#V1,726836,759780,5',\n",
       " 'http://www.logainm.ie/6971.aspx',\n",
       " 'http://maps.osi.ie/publicviewer/#V1,527847,658042,6',\n",
       " 'http://www.logainm.ie/6969.aspx',\n",
       " 'http://www.logainm.ie/17033.aspx',\n",
       " 'http://maps.osi.ie/publicviewer/#V1,530914,658906,5',\n",
       " 'http://www.logainm.ie/1166545.aspx',\n",
       " 'http://maps.osi.ie/publicviewer/#V1,731386,750889,4',\n",
       " 'http://www.logainm.ie/1166603.aspx',\n",
       " 'http://maps.osi.ie/publicviewer/#V1,728737,741189,4',\n",
       " 'http://www.logainm.ie/1166256.aspx',\n",
       " 'http://maps.osi.ie/publicviewer/#V1,722916,737009,4',\n",
       " 'http://maps.osi.ie/publicviewer/#V1,529233,658623,5',\n",
       " 'http://www.logainm.ie/6929.aspx',\n",
       " 'http://maps.osi.ie/publicviewer/#V1,529024,659689,5',\n",
       " 'http://www.logainm.ie/6923.aspx',\n",
       " 'http://www.logainm.ie/57172.aspx',\n",
       " 'http://maps.osi.ie/publicviewer/#V1,532087,662700,5',\n",
       " 'http://maps.osi.ie/publicviewer/#V1,727738,726340,5',\n",
       " 'http://www.logainm.ie/6879.aspx',\n",
       " 'http://maps.osi.ie/publicviewer/#V1,530057,663100,5',\n",
       " 'http://www.logainm.ie/7021.aspx',\n",
       " 'http://maps.osi.ie/publicviewer/#V1,530384,666673,6',\n",
       " 'http://www.logainm.ie/6153.aspx',\n",
       " 'http://maps.osi.ie/publicviewer/#V1,535114,663127,6',\n",
       " 'http://www.logainm.ie/6139.aspx',\n",
       " 'http://maps.osi.ie/publicviewer/#V1,534275,662106,5',\n",
       " 'http://www.logainm.ie/6141.aspx',\n",
       " 'http://maps.osi.ie/publicviewer/#V1,535895,662434,5',\n",
       " 'http://www.logainm.ie/104097.aspx',\n",
       " 'http://maps.osi.ie/publicviewer/#V1,537750,659453,6',\n",
       " 'http://www.logainm.ie/7410.aspx',\n",
       " 'http://maps.osi.ie/publicviewer/#V1,545671,659153,7',\n",
       " 'http://www.logainm.ie/1166075.aspx',\n",
       " 'http://maps.osi.ie/publicviewer/#V1,527977,652747,4',\n",
       " 'http://www.logainm.ie/1166539.aspx',\n",
       " 'http://maps.osi.ie/publicviewer/#V1,524789,652814,5',\n",
       " 'http://www.logainm.ie/24189.aspx',\n",
       " 'http://maps.osi.ie/publicviewer/#V1,507482,649489,6',\n",
       " 'http://www.logainm.ie/16606.aspx',\n",
       " 'http://maps.osi.ie/publicviewer/#V1,708112,625241,5',\n",
       " 'http://www.logainm.ie/53675.aspx',\n",
       " 'http://www.logainm.ie/23885.aspx',\n",
       " 'http://maps.osi.ie/publicviewer/#V1,498363,648074,5',\n",
       " 'http://www.logainm.ie/24367.aspx',\n",
       " 'http://maps.osi.ie/publicviewer/#V1,472090,617427,4',\n",
       " 'http://maps.osi.ie/publicviewer/#V1,722610,607243,6',\n",
       " 'http://www.logainm.ie/1166860.aspx',\n",
       " 'http://maps.osi.ie/publicviewer/#V1,695052,596981,3',\n",
       " 'http://www.logainm.ie/1166651.aspx',\n",
       " 'http://maps.osi.ie/publicviewer/#V1,681823,608027,4',\n",
       " 'http://www.logainm.ie/53760.aspx',\n",
       " 'http://maps.osi.ie/publicviewer/#V1,579411,571579,4',\n",
       " 'http://www.logainm.ie/1166136.aspx',\n",
       " 'http://maps.osi.ie/publicviewer/#V1,581620,568272,3',\n",
       " 'http://www.logainm.ie/1166543.aspx',\n",
       " 'http://maps.osi.ie/publicviewer/#V1,579209,565065,7',\n",
       " 'http://www.logainm.ie/9407.aspx',\n",
       " 'http://maps.osi.ie/publicviewer/#V1,579226,565428,5',\n",
       " 'http://www.logainm.ie/1166527.aspx',\n",
       " 'http://maps.osi.ie/publicviewer/#V1,460318,621256,4',\n",
       " 'http://www.logainm.ie/22581.aspx',\n",
       " 'http://maps.osi.ie/publicviewer/#V1,423345,600779,5',\n",
       " 'http://www.logainm.ie/22583.aspx',\n",
       " 'http://maps.osi.ie/publicviewer/#V1,417924,594893,5',\n",
       " 'http://www.logainm.ie/22582.aspx',\n",
       " 'http://maps.osi.ie/publicviewer/#V1,421086,591228,5',\n",
       " 'http://www.logainm.ie/22580.aspx',\n",
       " 'http://maps.osi.ie/publicviewer/#V1,421049,592753,5',\n",
       " 'http://www.logainm.ie/22578.aspx',\n",
       " 'http://maps.osi.ie/publicviewer/#V1,426161,596419,4',\n",
       " 'http://www.logainm.ie/1410428.aspx',\n",
       " 'http://www.logainm.ie/22146.aspx',\n",
       " 'http://maps.osi.ie/publicviewer/#V1,580306,564675,6',\n",
       " 'http://maps.osi.ie/publicviewer/#V1,428317,598926,5',\n",
       " 'http://www.logainm.ie/22156.aspx']"
      ]
     },
     "metadata": {},
     "execution_count": 124
    }
   ],
   "source": [
    "data2.iloc[max_i2].external_links"
   ]
  }
 ]
}